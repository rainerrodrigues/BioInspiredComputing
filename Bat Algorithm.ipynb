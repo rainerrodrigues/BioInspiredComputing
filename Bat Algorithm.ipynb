{
 "cells": [
  {
   "cell_type": "markdown",
   "id": "528ec5c5",
   "metadata": {},
   "source": [
    "# Bat Algorithm\n",
    "\n",
    "## Source Code\n",
    "\n",
    "### Class definition"
   ]
  },
  {
   "cell_type": "code",
   "execution_count": 2,
   "id": "4d3d3635",
   "metadata": {},
   "outputs": [],
   "source": [
    "#Import numpy library\n",
    "import numpy as np\n",
    "\n",
    "#Bat Algorithm class definition\n",
    "class BatAlgorithm:\n",
    "    #Initialization of parameters\n",
    "    def __init__(self, fitness_func, num_dimensions, num_bats=40, num_iterations=1000, A=1.0, r=0.5, Qmin=0.0, Qmax=2.0, alpha=0.9, gamma=0.9):\n",
    "        self.fitness_func = fitness_func\n",
    "        self.num_dimensions = num_dimensions\n",
    "        self.num_bats = num_bats\n",
    "        self.num_iterations = num_iterations\n",
    "        self.A = A\n",
    "        self.r = r\n",
    "        self.Qmin = Qmin\n",
    "        self.Qmax = Qmax\n",
    "        self.alpha = alpha\n",
    "        self.gamma = gamma\n",
    "    \n",
    "    #Initialization of bats\n",
    "    def init_bats(self):\n",
    "        self.positions = np.random.uniform(low=-5, high=5, size=(self.num_bats, self.num_dimensions))\n",
    "        self.velocities = np.zeros((self.num_bats, self.num_dimensions))\n",
    "        self.frequencies = np.zeros(self.num_bats)\n",
    "        self.fitnesses = np.array([self.fitness_func(pos) for pos in self.positions])\n",
    "        self.best_positions = self.positions.copy()\n",
    "        self.best_fitnesses = self.fitnesses.copy()\n",
    "    \n",
    "    #Update bat's velocity, frequency and position\n",
    "    def update_bats(self):\n",
    "        for i in range(self.num_bats):\n",
    "            self.frequencies[i] = self.Qmin + (self.Qmax - self.Qmin) * np.random.uniform()\n",
    "            self.velocities[i] += (self.positions[i] - self.best_positions[i]) * self.frequencies[i]\n",
    "            self.positions[i] += self.velocities[i]\n",
    "            for j in range(self.num_dimensions):\n",
    "                if np.random.uniform() < self.r:\n",
    "                    #Update the position\n",
    "                    self.positions[i][j] = self.best_positions[i][j] + self.A * np.random.normal()\n",
    "            self.fitnesses[i] = self.fitness_func(self.positions[i])\n",
    "            #Update the best fitness per bat\n",
    "            if self.fitnesses[i] < self.best_fitnesses[i]:\n",
    "                self.best_positions[i] = self.positions[i]\n",
    "                self.best_fitnesses[i] = self.fitnesses[i]\n",
    "        self.A *= self.alpha\n",
    "        self.r *= (1 - np.exp(-self.gamma * self.num_iterations))\n",
    "    \n",
    "    #Simulation to run the Bat algorithm\n",
    "    def run(self):\n",
    "        self.init_bats()\n",
    "        for i in range(self.num_iterations):\n",
    "            self.update_bats()\n",
    "        best_index = np.argmin(self.best_fitnesses)\n",
    "        return self.best_positions[best_index], self.best_fitnesses[best_index]\n"
   ]
  },
  {
   "cell_type": "markdown",
   "id": "028e0921",
   "metadata": {},
   "source": [
    "### Fitness Function"
   ]
  },
  {
   "cell_type": "code",
   "execution_count": 3,
   "id": "93b6b9b0",
   "metadata": {},
   "outputs": [],
   "source": [
    "def fitness_function(x):\n",
    "    return np.sum(x**2)"
   ]
  },
  {
   "cell_type": "markdown",
   "id": "d86730be",
   "metadata": {},
   "source": [
    "### Evaluation"
   ]
  },
  {
   "cell_type": "code",
   "execution_count": 4,
   "id": "ab33c4be",
   "metadata": {},
   "outputs": [
    {
     "name": "stderr",
     "output_type": "stream",
     "text": [
      "C:\\Users\\Rainer\\AppData\\Local\\Temp\\ipykernel_20712\\461572913.py:2: RuntimeWarning: overflow encountered in square\n",
      "  return np.sum(x**2)\n",
      "D:\\Anaconda\\lib\\site-packages\\numpy\\core\\fromnumeric.py:86: RuntimeWarning: overflow encountered in reduce\n",
      "  return ufunc.reduce(obj, axis, dtype, out, **passkwargs)\n",
      "C:\\Users\\Rainer\\AppData\\Local\\Temp\\ipykernel_20712\\1202608093.py:33: RuntimeWarning: overflow encountered in add\n",
      "  self.positions[i] += self.velocities[i]\n",
      "C:\\Users\\Rainer\\AppData\\Local\\Temp\\ipykernel_20712\\1202608093.py:32: RuntimeWarning: overflow encountered in multiply\n",
      "  self.velocities[i] += (self.positions[i] - self.best_positions[i]) * self.frequencies[i]\n",
      "C:\\Users\\Rainer\\AppData\\Local\\Temp\\ipykernel_20712\\1202608093.py:32: RuntimeWarning: overflow encountered in add\n",
      "  self.velocities[i] += (self.positions[i] - self.best_positions[i]) * self.frequencies[i]\n"
     ]
    },
    {
     "name": "stdout",
     "output_type": "stream",
     "text": [
      "Best solution: [-1.33687555 -1.06516688  1.30734596  1.64663838  1.68042239  3.9906203\n",
      " -0.10932994 -1.21224427 -1.57577404 -1.28597598]\n",
      "Best fitness: 31.709545103001172\n"
     ]
    }
   ],
   "source": [
    "#Run an instance of the bat algorithm\n",
    "bat = BatAlgorithm(fitness_function, num_dimensions=10, num_bats=50, num_iterations=1000, A=0.5, r=0.1, Qmin=0.0, Qmax=2.0, alpha=0.95, gamma=0.95)\n",
    "\n",
    "best_solution, best_fitness = bat.run()\n",
    "\n",
    "print(f\"Best solution: {best_solution}\")\n",
    "print(f\"Best fitness: {best_fitness}\")"
   ]
  }
 ],
 "metadata": {
  "kernelspec": {
   "display_name": "Python 3 (ipykernel)",
   "language": "python",
   "name": "python3"
  },
  "language_info": {
   "codemirror_mode": {
    "name": "ipython",
    "version": 3
   },
   "file_extension": ".py",
   "mimetype": "text/x-python",
   "name": "python",
   "nbconvert_exporter": "python",
   "pygments_lexer": "ipython3",
   "version": "3.9.12"
  }
 },
 "nbformat": 4,
 "nbformat_minor": 5
}
