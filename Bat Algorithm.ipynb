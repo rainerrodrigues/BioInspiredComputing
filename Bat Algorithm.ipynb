{
 "cells": [
  {
   "cell_type": "code",
   "execution_count": 5,
   "id": "4d3d3635",
   "metadata": {},
   "outputs": [],
   "source": [
    "import numpy as np\n",
    "\n",
    "class BatAlgorithm:\n",
    "    def __init__(self, fitness_func, num_dimensions, num_bats=40, num_iterations=1000, A=1.0, r=0.5, Qmin=0.0, Qmax=2.0, alpha=0.9, gamma=0.9):\n",
    "        self.fitness_func = fitness_func\n",
    "        self.num_dimensions = num_dimensions\n",
    "        self.num_bats = num_bats\n",
    "        self.num_iterations = num_iterations\n",
    "        self.A = A\n",
    "        self.r = r\n",
    "        self.Qmin = Qmin\n",
    "        self.Qmax = Qmax\n",
    "        self.alpha = alpha\n",
    "        self.gamma = gamma\n",
    "\n",
    "    def init_bats(self):\n",
    "        self.positions = np.random.uniform(low=-5, high=5, size=(self.num_bats, self.num_dimensions))\n",
    "        self.velocities = np.zeros((self.num_bats, self.num_dimensions))\n",
    "        self.frequencies = np.zeros(self.num_bats)\n",
    "        self.fitnesses = np.array([self.fitness_func(pos) for pos in self.positions])\n",
    "        self.best_positions = self.positions.copy()\n",
    "        self.best_fitnesses = self.fitnesses.copy()\n",
    "\n",
    "    def update_bats(self):\n",
    "        for i in range(self.num_bats):\n",
    "            self.frequencies[i] = self.Qmin + (self.Qmax - self.Qmin) * np.random.uniform()\n",
    "            self.velocities[i] += (self.positions[i] - self.best_positions[i]) * self.frequencies[i]\n",
    "            self.positions[i] += self.velocities[i]\n",
    "            for j in range(self.num_dimensions):\n",
    "                if np.random.uniform() < self.r:\n",
    "                    self.positions[i][j] = self.best_positions[i][j] + self.A * np.random.normal()\n",
    "            self.fitnesses[i] = self.fitness_func(self.positions[i])\n",
    "            if self.fitnesses[i] < self.best_fitnesses[i]:\n",
    "                self.best_positions[i] = self.positions[i]\n",
    "                self.best_fitnesses[i] = self.fitnesses[i]\n",
    "        self.A *= self.alpha\n",
    "        self.r *= (1 - np.exp(-self.gamma * self.num_iterations))\n",
    "\n",
    "    def run(self):\n",
    "        self.init_bats()\n",
    "        for i in range(self.num_iterations):\n",
    "            self.update_bats()\n",
    "        best_index = np.argmin(self.best_fitnesses)\n",
    "        return self.best_positions[best_index], self.best_fitnesses[best_index]\n"
   ]
  },
  {
   "cell_type": "code",
   "execution_count": 6,
   "id": "ab33c4be",
   "metadata": {},
   "outputs": [
    {
     "name": "stderr",
     "output_type": "stream",
     "text": [
      "C:\\Users\\Rainer\\AppData\\Local\\Temp\\ipykernel_5156\\32233301.py:2: RuntimeWarning: overflow encountered in square\n",
      "  return np.sum(x**2)\n",
      "D:\\Anaconda\\lib\\site-packages\\numpy\\core\\fromnumeric.py:86: RuntimeWarning: overflow encountered in reduce\n",
      "  return ufunc.reduce(obj, axis, dtype, out, **passkwargs)\n",
      "C:\\Users\\Rainer\\AppData\\Local\\Temp\\ipykernel_5156\\3629101362.py:27: RuntimeWarning: overflow encountered in multiply\n",
      "  self.velocities[i] += (self.positions[i] - self.best_positions[i]) * self.frequencies[i]\n",
      "C:\\Users\\Rainer\\AppData\\Local\\Temp\\ipykernel_5156\\3629101362.py:27: RuntimeWarning: overflow encountered in add\n",
      "  self.velocities[i] += (self.positions[i] - self.best_positions[i]) * self.frequencies[i]\n",
      "C:\\Users\\Rainer\\AppData\\Local\\Temp\\ipykernel_5156\\3629101362.py:28: RuntimeWarning: overflow encountered in add\n",
      "  self.positions[i] += self.velocities[i]\n"
     ]
    },
    {
     "name": "stdout",
     "output_type": "stream",
     "text": [
      "Best solution: [-0.55469065  1.09202351  0.73699719 -1.19474917 -0.55696784 -1.56060699\n",
      "  0.79072802 -0.38419674  2.63794008  3.97564508]\n",
      "Best fitness: 29.753834411700332\n"
     ]
    }
   ],
   "source": [
    "def fitness_function(x):\n",
    "    return np.sum(x**2)\n",
    "\n",
    "bat = BatAlgorithm(fitness_function, num_dimensions=10, num_bats=50, num_iterations=1000, A=0.5, r=0.1, Qmin=0.0, Qmax=2.0, alpha=0.95, gamma=0.95)\n",
    "\n",
    "best_solution, best_fitness = bat.run()\n",
    "\n",
    "print(f\"Best solution: {best_solution}\")\n",
    "print(f\"Best fitness: {best_fitness}\")\n"
   ]
  }
 ],
 "metadata": {
  "kernelspec": {
   "display_name": "Python 3 (ipykernel)",
   "language": "python",
   "name": "python3"
  },
  "language_info": {
   "codemirror_mode": {
    "name": "ipython",
    "version": 3
   },
   "file_extension": ".py",
   "mimetype": "text/x-python",
   "name": "python",
   "nbconvert_exporter": "python",
   "pygments_lexer": "ipython3",
   "version": "3.9.12"
  }
 },
 "nbformat": 4,
 "nbformat_minor": 5
}
