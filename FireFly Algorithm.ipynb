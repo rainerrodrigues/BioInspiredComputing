{
 "cells": [
  {
   "cell_type": "code",
   "execution_count": 12,
   "id": "f522a5bb",
   "metadata": {},
   "outputs": [],
   "source": [
    "import numpy as np\n",
    "\n",
    "class FireflyAlgorithm:\n",
    "    def __init__(self, fitness_func, num_dimensions, num_fireflies=50, max_iterations=1000, alpha=0.2, beta0=1, gamma=1):\n",
    "        self.fitness_func = fitness_func\n",
    "        self.num_dimensions = num_dimensions\n",
    "        self.num_fireflies = num_fireflies\n",
    "        self.max_iterations = max_iterations\n",
    "        self.alpha = alpha\n",
    "        self.beta0 = beta0\n",
    "        self.gamma = gamma\n",
    "        \n",
    "    def run(self):\n",
    "        # Initialize the population of fireflies\n",
    "        fireflies = np.random.uniform(low=-5, high=5, size=(self.num_fireflies, self.num_dimensions))\n",
    "        intensities = self.fitness_func(fireflies)\n",
    "        \n",
    "        # Initialize the best solution found so far\n",
    "        best_firefly = fireflies[np.argmin(intensities)]\n",
    "        best_intensity = intensities.min()\n",
    "        \n",
    "        # Iterate over the maximum number of iterations\n",
    "        for iteration in range(self.max_iterations):\n",
    "            # Update the attractiveness parameter\n",
    "            beta = self.beta0 * np.exp(-self.gamma * iteration)\n",
    "            \n",
    "            # Iterate over all pairs of fireflies\n",
    "            for i in range(self.num_fireflies):\n",
    "                for j in range(self.num_fireflies):\n",
    "                    # Calculate the distance between the fireflies\n",
    "                    r = np.linalg.norm(fireflies[i] - fireflies[j])\n",
    "                    \n",
    "                    # Update the position of the firefly based on its brightness and distance to the other firefly\n",
    "                    if intensities > intensities:\n",
    "                        fireflies[i] += beta * np.exp(-self.alpha * r**2) * (fireflies[j] - fireflies[i]) + np.random.normal(size=self.num_dimensions)\n",
    "                        intensities[i] = self.fitness_func(fireflies[i])\n",
    "            \n",
    "            # Update the best solution found so far\n",
    "            new_best_index = np.argmin(intensities)\n",
    "            new_best_intensity = intensities\n",
    "            if new_best_intensity < best_intensity:\n",
    "                best_firefly = fireflies[new_best_index]\n",
    "                best_intensity = new_best_intensity\n",
    "        print(f\"Iteration {iteration}: Best fitness = {best_firefly}\")\n",
    "        \n",
    "        return best_firefly, best_intensity\n"
   ]
  },
  {
   "cell_type": "code",
   "execution_count": 13,
   "id": "cff94c2b",
   "metadata": {},
   "outputs": [
    {
     "name": "stdout",
     "output_type": "stream",
     "text": [
      "Iteration 99: Best fitness = [ 4.77380455  1.99446579  4.23291321 -2.38469034 -0.27936969  0.66822858\n",
      " -0.41933553  2.3912082   4.60616098  3.50872301]\n",
      "Best solution: [ 4.77380455  1.99446579  4.23291321 -2.38469034 -0.27936969  0.66822858\n",
      " -0.41933553  2.3912082   4.60616098  3.50872301]\n",
      "Best fitness: 4172.438679244424\n"
     ]
    }
   ],
   "source": [
    "def fitness_function(x):\n",
    "    return np.sum(x**2)\n",
    "\n",
    "fa = FireflyAlgorithm(fitness_function, num_dimensions=10, num_fireflies=50, max_iterations=100, alpha=0.2, beta0=1, gamma=1)\n",
    "\n",
    "best_solution, best_fitness = fa.run()\n",
    "\n",
    "print(f\"Best solution: {best_solution}\")\n",
    "print(f\"Best fitness: {best_fitness}\")\n"
   ]
  }
 ],
 "metadata": {
  "kernelspec": {
   "display_name": "Python 3 (ipykernel)",
   "language": "python",
   "name": "python3"
  },
  "language_info": {
   "codemirror_mode": {
    "name": "ipython",
    "version": 3
   },
   "file_extension": ".py",
   "mimetype": "text/x-python",
   "name": "python",
   "nbconvert_exporter": "python",
   "pygments_lexer": "ipython3",
   "version": "3.9.12"
  }
 },
 "nbformat": 4,
 "nbformat_minor": 5
}
